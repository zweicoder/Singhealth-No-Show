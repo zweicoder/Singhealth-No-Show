{
 "cells": [
  {
   "cell_type": "code",
   "execution_count": 1,
   "metadata": {
    "collapsed": true
   },
   "outputs": [],
   "source": [
    "%matplotlib inline\n",
    "from sklearn import svm\n",
    "import numpy as np\n",
    "from matplotlib import pyplot as plt\n",
    "from sklearn.metrics import roc_curve, roc_auc_score\n",
    "                                                                                                                                                                                                                                                                                                                                                                                                                                                                                                                            \n",
    "x = np.loadtxt(\"xtrain.txt\", delimiter=\",\")\n",
    "y = np.loadtxt(\"ytrain.txt\", delimiter=\" \")"
   ]
  },
  {
   "cell_type": "code",
   "execution_count": 2,
   "metadata": {
    "collapsed": false
   },
   "outputs": [],
   "source": [
    "from sklearn.utils import shuffle\n",
    "train_size = int(len(x) * 0.8)\n",
    "x, y = shuffle(x, y, random_state = 0)\n",
    "\n",
    "xtrain = x[:train_size]\n",
    "ytrain = y[:train_size]\n",
    "\n",
    "xtest = x[train_size:]\n",
    "ytest = y[train_size:]\n",
    "\n",
    "def print_stats(ypre, ytest, scores):\n",
    "    # Get Score:\n",
    "    score = len(filter(lambda x:x[0] == x[1], zip(ypre,ytest)))\n",
    "\n",
    "    nsCorrect = filter(lambda x:x[0] == x[1] and x[0] == 1 , zip(ypre,ytest))\n",
    "#     print('# of true positives: %s'% len(nsCorrect))\n",
    "    nsPred = filter(lambda x: x==1, ypre)\n",
    "#     print('# predicted positives: %s'% len(nsPred))\n",
    "\n",
    "    nsActual = filter(lambda x: x==1, ytest)\n",
    "#     print 'Number of actual No-Shows: %s' %len(nsActual)\n",
    "    print 'Accuracy: %s' % (score*1.0/len(ytest))\n",
    "    print('PPV: %s'%(len(nsCorrect)*1.0/len(nsPred))) # TP / (TP+FP)\n",
    "    print 'Sensitivity or TPR : %s' % (len(nsCorrect)*1.0/(len(nsActual))) #TP / P\n",
    "    \n",
    "    fpr, tpr, thresholds = roc_curve(ytest, scores)\n",
    "    print 'AUROC: %s' % roc_auc_score(ytest, scores)\n",
    "#     print('FPR: %s' % fpr)\n",
    "#     print('TPR: %s' % tpr)\n",
    "#     print('Thresholds: %s' % thresholds)"
   ]
  },
  {
   "cell_type": "code",
   "execution_count": 3,
   "metadata": {
    "collapsed": true
   },
   "outputs": [],
   "source": [
    "from itertools import izip\n",
    "\n",
    "def plotRocStats(ytest, scores, th= []):\n",
    "    fpr, tpr, thresholds = roc_curve(ytest, scores)\n",
    "    \n",
    "    # ROC\n",
    "    plt.figure(0)\n",
    "    plt.clf()\n",
    "    random,= plt.plot(np.arange(0,1,0.001),np.arange(0,1,0.001), label=\"Random\")\n",
    "    plt.title('ROC')\n",
    "    model, = plt.plot(fpr,tpr, label=\"Model\")\n",
    "#     plt.legend(handles=[model,random],loc=4)\n",
    "    plt.ylabel(\"True Positive Rate\")\n",
    "    plt.xlabel(\"False Positive Rate\")\n",
    "    \n",
    "    # Metrics vs Threshold\n",
    "    plt.figure(1)\n",
    "    plt.clf()\n",
    "    plt.title('Metrics V.S. Threshold ')\n",
    "    tpr_plot, = plt.plot(thresholds, tpr, label='TPR')\n",
    "    fpr_plot, = plt.plot(thresholds, fpr, label='FPR')\n",
    "    \n",
    "    # Accuracy\n",
    "    ppvs= []\n",
    "    accs = []\n",
    "    for t in th:\n",
    "        ypre = map(lambda score: 0 if score <= t else 1, scores)\n",
    "        truePositives = len(filter(lambda x:x[0] == x[1] and x[0] == 1 , izip(ypre,ytest)))\n",
    "        positivePreds = len(filter(lambda x: x==1, ypre))\n",
    "        ppvs.append(truePositives*1.0/positivePreds)\n",
    "\n",
    "        acc = len(filter(lambda x:x[0] == x[1], izip(ypre,ytest)))\n",
    "        accs.append(acc*1.0/len(ytest))\n",
    "    acc_plot, = plt.plot(th, accs, label='Accuracy')\n",
    "    ppv_plot, = plt.plot(th, ppvs, label='PPV')\n",
    "    plt.ylabel(\"Percentage\")\n",
    "    plt.xlabel(\"Thresholds\")\n",
    "    plt.show()"
   ]
  },
  {
   "cell_type": "markdown",
   "metadata": {},
   "source": [
    "# Linear SVM"
   ]
  },
  {
   "cell_type": "code",
   "execution_count": 5,
   "metadata": {
    "collapsed": false,
    "scrolled": false
   },
   "outputs": [
    {
     "name": "stdout",
     "output_type": "stream",
     "text": [
      "------------ C =  0.3 ------------\n",
      "Accuracy: 0.858542200089\n",
      "PPV: 0.573268921095\n",
      "Sensitivity or TPR : 0.0582365450679\n",
      "AUROC: 0.773727301977\n"
     ]
    }
   ],
   "source": [
    "# Train\n",
    "# clf = svm.SVC(kernel='linear', C = 1.0)\n",
    "# for c in [0.01, 0.1, 0.3, 0.5, 1]:\n",
    "for c in [0.3]:\n",
    "    print \"------------ C =  %s ------------\" % c\n",
    "    clf = svm.LinearSVC(dual=False, C = c)\n",
    "    clf.fit(xtrain,ytrain)\n",
    "\n",
    "    # Predict\n",
    "    ypre = clf.predict(xtest)\n",
    "\n",
    "    # Get Score\n",
    "#     score = len(filter(lambda x:x[0] == x[1], zip(ypre,ytest)))\n",
    "\n",
    "    print_stats(ypre, ytest, clf.decision_function(xtest))"
   ]
  },
  {
   "cell_type": "markdown",
   "metadata": {},
   "source": [
    "# Random Forest"
   ]
  },
  {
   "cell_type": "code",
   "execution_count": null,
   "metadata": {
    "collapsed": false,
    "scrolled": true
   },
   "outputs": [],
   "source": [
    "from sklearn.ensemble import RandomForestClassifier\n",
    "clf = RandomForestClassifier(n_estimators=5)\n",
    "clf = clf.fit(xtrain, ytrain)\n",
    "\n",
    "# Predict\n",
    "ypre = clf.predict(xtest)\n",
    "print_stats(ypre, ytest)"
   ]
  },
  {
   "cell_type": "markdown",
   "metadata": {},
   "source": [
    "# Adaboost"
   ]
  },
  {
   "cell_type": "code",
   "execution_count": null,
   "metadata": {
    "collapsed": false,
    "scrolled": true
   },
   "outputs": [],
   "source": [
    "from sklearn.ensemble import AdaBoostClassifier, RandomForestClassifier\n",
    "# Create and fit an AdaBoosted decision tree\n",
    "# for c in [1, 3, 5, 7, 10]:\n",
    "for c in [ 5]:\n",
    "    print \"------------ C =  %s ------------\" % c\n",
    "    bdt = AdaBoostClassifier(RandomForestClassifier(),algorithm=\"SAMME\", n_estimators=c)\n",
    "    bdt.fit(xtrain, ytrain)\n",
    "\n",
    "    ypre = bdt.predict(xtest)\n",
    "    scores = bdt.decision_function(xtest)\n",
    "    print_stats(ypre, ytest, scores)"
   ]
  },
  {
   "cell_type": "markdown",
   "metadata": {},
   "source": [
    "### Linear SVC as Base"
   ]
  },
  {
   "cell_type": "code",
   "execution_count": null,
   "metadata": {
    "collapsed": false
   },
   "outputs": [],
   "source": [
    "bdt = AdaBoostClassifier(svm.SVC(probability=True,kernel='linear'),n_estimators=5, learning_rate=1.0, algorithm='SAMME')\n",
    "bdt.fit(xtrain, ytrain)\n",
    "ypre = bdt.predict(xtest)\n",
    "scores = bdt.decision_function(xtest)\n",
    "print_stats(ypre, ytest, scores)"
   ]
  },
  {
   "cell_type": "markdown",
   "metadata": {},
   "source": [
    "### Decision Tree Classifier as Base"
   ]
  },
  {
   "cell_type": "code",
   "execution_count": 10,
   "metadata": {
    "collapsed": false,
    "scrolled": true
   },
   "outputs": [
    {
     "name": "stdout",
     "output_type": "stream",
     "text": [
      "------------ C =  5 ------------\n",
      "Accuracy: 0.865777172253\n",
      "PPV: 0.586475942783\n",
      "Sensitivity or TPR : 0.221331588418\n",
      "AUROC: 0.845843907953\n",
      "------------ C =  6 ------------\n",
      "Accuracy: 0.865965093608\n",
      "PPV: 0.579029126214\n",
      "Sensitivity or TPR : 0.243906428922\n",
      "AUROC: 0.840446792496\n"
     ]
    }
   ],
   "source": [
    "from sklearn.ensemble import AdaBoostClassifier\n",
    "from sklearn.tree import DecisionTreeClassifier\n",
    "# for c in [5,6]:\n",
    "for c in [ 5]:\n",
    "    print \"------------ C =  %s ------------\" % c\n",
    "    bdt = AdaBoostClassifier(\n",
    "        DecisionTreeClassifier(max_depth=c),\n",
    "        n_estimators=15)\n",
    "    bdt.fit(xtrain, ytrain)\n",
    "    ypre = bdt.predict(xtest)\n",
    "    scores = bdt.decision_function(xtest)\n",
    "    print_stats(ypre, ytest, scores)"
   ]
  },
  {
   "cell_type": "code",
   "execution_count": null,
   "metadata": {
    "collapsed": false
   },
   "outputs": [],
   "source": [
    "plotRocStats(ytest, scores)"
   ]
  },
  {
   "cell_type": "code",
   "execution_count": null,
   "metadata": {
    "collapsed": false
   },
   "outputs": [],
   "source": [
    "print_stats([0 if scores[i]<= -0.15 else 1 for i in xrange(len(pred))], ytest, scores)"
   ]
  },
  {
   "cell_type": "markdown",
   "metadata": {},
   "source": [
    "# GBRT"
   ]
  },
  {
   "cell_type": "code",
   "execution_count": null,
   "metadata": {
    "collapsed": false,
    "scrolled": false
   },
   "outputs": [],
   "source": [
    "from sklearn.ensemble import GradientBoostingClassifier\n",
    "\n",
    "clf = GradientBoostingClassifier(n_estimators=100, learning_rate=1.0,\n",
    "   max_depth=1, random_state=0).fit(xtrain, ytrain)\n",
    "ypre = clf.predict(xtest)\n",
    "\n",
    "print_stats(ypre, ytest)"
   ]
  },
  {
   "cell_type": "markdown",
   "metadata": {},
   "source": [
    "# XGBoost"
   ]
  },
  {
   "cell_type": "markdown",
   "metadata": {},
   "source": [
    "Results:\n",
    " - d = 15, n = 50: high train auc (90%) but low test auc -> 0.694\n",
    " - d = 10, n = 50: test auc 0.713\n",
    " - d = 10, n = 100: test auc 0.716022415248\n",
    " - d= 5, n= 50: test auc: 0.7045\n",
    " - d = 5, n = 100: test auc 0.715"
   ]
  },
  {
   "cell_type": "code",
   "execution_count": 4,
   "metadata": {
    "collapsed": false,
    "scrolled": true
   },
   "outputs": [
    {
     "name": "stdout",
     "output_type": "stream",
     "text": [
      "Accuracy: 0.816917619976\n",
      "PPV: 0.408152114523\n",
      "Sensitivity or TPR : 0.610992965811\n",
      "AUROC: 0.851431149614\n"
     ]
    }
   ],
   "source": [
    "import xgboost as xgb\n",
    "xg_train = xgb.DMatrix(xtrain, label=ytrain, feature_names=None)\n",
    "xg_test = xgb.DMatrix(xtest, label=ytest)\n",
    "\n",
    "## setup parameters for xgboost\n",
    "param = {}\n",
    "param['objective'] = 'binary:logistic'\n",
    "param['eta'] = 0.1\n",
    "param['max_depth'] = 5\n",
    "param['silent'] = 1\n",
    "# param['nthread'] = 4 # comment to use max num of threads\n",
    "param['eval_metric'] ='auc'\n",
    "param['scale_pos_weight'] = 47747*1.0/7836 # scaled by calculating ratio of pos to neg\n",
    "watchlist = [ (xg_train,'train'), (xg_test, 'test') ]\n",
    "num_round = 100\n",
    "bst = xgb.train(param, xg_train, num_round, watchlist)\n",
    "\n",
    "\n",
    "### get prediction\n",
    "pred = bst.predict( xg_test )\n",
    "print_stats([0 if pred[i]<= 0.65 else 1 for i in xrange(len(pred))], ytest, pred)"
   ]
  },
  {
   "cell_type": "code",
   "execution_count": 26,
   "metadata": {
    "collapsed": false
   },
   "outputs": [
    {
     "name": "stdout",
     "output_type": "stream",
     "text": [
      "[('f339', 372), ('f341', 255), ('f340', 245), ('f338', 95), ('f6', 93), ('f53', 64), ('f124', 48), ('f8', 46), ('f49', 42), ('f37', 38)]\n"
     ]
    },
    {
     "data": {
      "text/plain": [
       "[('Appointment Waiting Time (days)', ('f339', 372)),\n",
       " ('NS History', ('f341', 255)),\n",
       " ('Age', ('f340', 245)),\n",
       " ('Appointment Time', ('f338', 95)),\n",
       " ('fp', ('f6', 93)),\n",
       " ('nc', ('f53', 64)),\n",
       " ('nf', ('f124', 48)),\n",
       " ('chinese', ('f8', 46)),\n",
       " ('oral & maxillo-facial surgery', ('f49', 42)),\n",
       " ('22', ('f37', 38))]"
      ]
     },
     "execution_count": 26,
     "metadata": {},
     "output_type": "execute_result"
    }
   ],
   "source": [
    "import ast\n",
    "def read_mapping():\n",
    "    with open('mapping.txt', 'r') as f:\n",
    "        s = f.read()\n",
    "        return ast.literal_eval(s)\n",
    "    \n",
    "def getByValue(d, v):\n",
    "    for key, val in d.iteritems():\n",
    "        if val == v:\n",
    "            return key\n",
    "    \n",
    "asd = sorted(bst.get_fscore().items(), key=lambda x:x[1], reverse=True)[:10]\n",
    "mapping = read_mapping()\n",
    "qualitative_size = len(mapping)\n",
    "# Days of week\n",
    "quantitative = [i+1 for i in range(7)] + [\"Appointment Time\", \"Appointment Waiting Time (days)\", \"Age\", \"NS History\"]\n",
    "print asd\n",
    "canon = [quantitative[int(key[1:]) - qualitative_size] if int(key[1:]) >= qualitative_size else getByValue(mapping, int(key[1:])) for key, val in asd]\n",
    "zip(canon, asd)"
   ]
  },
  {
   "cell_type": "code",
   "execution_count": 50,
   "metadata": {
    "collapsed": false
   },
   "outputs": [
    {
     "name": "stdout",
     "output_type": "stream",
     "text": [
      "Accuracy: 0.816917619976\n",
      "PPV: 0.408152114523\n",
      "Sensitivity or TPR : 0.610992965811\n",
      "AUROC: 0.851431149614\n"
     ]
    }
   ],
   "source": [
    " print_stats([0 if pred[i]<= 0.65 else 1 for i in xrange(len(pred))], ytest, pred)"
   ]
  },
  {
   "cell_type": "code",
   "execution_count": 13,
   "metadata": {
    "collapsed": false
   },
   "outputs": [
    {
     "name": "stdout",
     "output_type": "stream",
     "text": [
      "Accuracy: 0.860045570929\n",
      "PPV: 0.741433021807\n",
      "Sensitivity or TPR : 0.0389334205791\n",
      "AUROC: 0.851431149614\n"
     ]
    }
   ],
   "source": [
    "print_stats([0 if pred[i]<= 0.91 else 1 for i in xrange(len(pred))], ytest, pred)"
   ]
  },
  {
   "cell_type": "code",
   "execution_count": 57,
   "metadata": {
    "collapsed": false,
    "scrolled": true
   },
   "outputs": [
    {
     "data": {
      "image/png": "[encoded data removed]",
      "text/plain": [
       "<matplotlib.figure.Figure at 0x7ff30ed33f50>"
      ]
     },
     "metadata": {},
     "output_type": "display_data"
    },
    {
     "data": {
      "image/png": "[encoded data removed]",
      "text/plain": [
       "<matplotlib.figure.Figure at 0x7ff30ed94e90>"
      ]
     },
     "metadata": {},
     "output_type": "display_data"
    }
   ],
   "source": [
    "plotRocStats(ytest, pred, th= np.arange(0,1,0.05))"
   ]
  },
  {
   "cell_type": "markdown",
   "metadata": {},
   "source": [
    "# Percentage of no shows"
   ]
  },
  {
   "cell_type": "code",
   "execution_count": null,
   "metadata": {
    "collapsed": false
   },
   "outputs": [],
   "source": [
    "score = len(filter(lambda x:x == -1, ytest))\n",
    "    \n",
    "print score*1.0/len(ytest)"
   ]
  },
  {
   "cell_type": "code",
   "execution_count": null,
   "metadata": {
    "collapsed": true
   },
   "outputs": [],
   "source": []
  }
 ],
 "metadata": {
  "kernelspec": {
   "display_name": "Python 2",
   "language": "python",
   "name": "python2"
  },
  "language_info": {
   "codemirror_mode": {
    "name": "ipython",
    "version": 2
   },
   "file_extension": ".py",
   "mimetype": "text/x-python",
   "name": "python",
   "nbconvert_exporter": "python",
   "pygments_lexer": "ipython2",
   "version": "2.7.6"
  }
 },
 "nbformat": 4,
 "nbformat_minor": 0
}
