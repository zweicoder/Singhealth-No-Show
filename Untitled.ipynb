{
 "cells": [
  {
   "cell_type": "code",
   "execution_count": 1,
   "metadata": {
    "collapsed": true
   },
   "outputs": [],
   "source": [
    "from sklearn import svm\n",
    "import numpy as np\n",
    "\n",
    "x = np.loadtxt(\"xtrain.txt\", delimiter=\",\")\n",
    "y = np.loadtxt(\"ytrain.txt\", delimiter=\" \")"
   ]
  },
  {
   "cell_type": "code",
   "execution_count": 2,
   "metadata": {
    "collapsed": false
   },
   "outputs": [],
   "source": [
    "train_size = int(len(x) * 0.7)\n",
    "\n",
    "xtrain = x[:train_size]\n",
    "ytrain = y[:train_size]\n",
    "\n",
    "xtest = x[train_size:]\n",
    "ytest = y[train_size:]"
   ]
  },
  {
   "cell_type": "code",
   "execution_count": 3,
   "metadata": {
    "collapsed": false
   },
   "outputs": [
    {
     "name": "stdout",
     "output_type": "stream",
     "text": [
      "0.859543347532\n"
     ]
    }
   ],
   "source": [
    "# Train\n",
    "# clf = svm.SVC(kernel='linear', C = 1.0)\n",
    "clf = svm.LinearSVC(dual=False, C = 1.0)\n",
    "clf.fit(xtrain,ytrain)\n",
    "\n",
    "# Predict\n",
    "ypre = clf.predict(xtest)\n",
    "\n",
    "# Get Score\n",
    "score = len(filter(lambda x:x[0] == x[1], zip(ypre,ytest)))\n",
    "    \n",
    "print score*1.0/len(ytest)"
   ]
  },
  {
   "cell_type": "code",
   "execution_count": 6,
   "metadata": {
    "collapsed": false
   },
   "outputs": [
    {
     "name": "stdout",
     "output_type": "stream",
     "text": [
      "0.857084690554\n"
     ]
    }
   ],
   "source": [
    "asd = [0] * len(xtest)\n",
    "score = len(filter(lambda x:x[0] == x[1], zip(asd,ytest)))\n",
    "    \n",
    "print score*1.0/len(ytest)"
   ]
  },
  {
   "cell_type": "code",
   "execution_count": null,
   "metadata": {
    "collapsed": false
   },
   "outputs": [],
   "source": [
    "np.sort(clf.coef_)"
   ]
  },
  {
   "cell_type": "code",
   "execution_count": 17,
   "metadata": {
    "collapsed": false
   },
   "outputs": [
    {
     "name": "stdout",
     "output_type": "stream",
     "text": [
      "Number of true positives: 205\n",
      "Number predicted: 253\n",
      "Percentage true positives: 0.810276679842\n"
     ]
    }
   ],
   "source": [
    "nsCorrect = filter(lambda x:x[0] == x[1] and x[0] == 1 , zip(ypre,ytest))\n",
    "print('Number of true positives: %s'% len(nsCorrect))\n",
    "nsPred = filter(lambda x: x==1, ypre)\n",
    "print('Number predicted: %s'% len(nsPred))\n",
    "print('Percentage true positives: %s'%(len(nsCorrect)*1.0/len(nsPred)))"
   ]
  },
  {
   "cell_type": "code",
   "execution_count": 5,
   "metadata": {
    "collapsed": false
   },
   "outputs": [
    {
     "name": "stdout",
     "output_type": "stream",
     "text": [
      "253\n",
      "9126\n",
      "0.142915309446\n"
     ]
    }
   ],
   "source": [
    "# print ypre\n",
    "# print ytest\n",
    "nsPred = filter(lambda x: x==1, ypre)\n",
    "print len(nsPred)\n",
    "nsActual = filter(lambda x: x==1, ytest)\n",
    "print len(nsActual)\n",
    "print len(nsActual) * 1.0/ len(ytest)"
   ]
  },
  {
   "cell_type": "code",
   "execution_count": null,
   "metadata": {
    "collapsed": true
   },
   "outputs": [],
   "source": []
  }
 ],
 "metadata": {
  "kernelspec": {
   "display_name": "Python 2",
   "language": "python",
   "name": "python2"
  },
  "language_info": {
   "codemirror_mode": {
    "name": "ipython",
    "version": 2
   },
   "file_extension": ".py",
   "mimetype": "text/x-python",
   "name": "python",
   "nbconvert_exporter": "python",
   "pygments_lexer": "ipython2",
   "version": "2.7.6"
  }
 },
 "nbformat": 4,
 "nbformat_minor": 0
}
