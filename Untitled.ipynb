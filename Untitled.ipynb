{
 "cells": [
  {
   "cell_type": "code",
   "execution_count": 1,
   "metadata": {
    "collapsed": true
   },
   "outputs": [],
   "source": [
    "%matplotlib inline\n",
    "from sklearn import svm\n",
    "import numpy as np\n",
    "from matplotlib import pyplot as plt\n",
    "from sklearn.metrics import roc_curve\n",
    "\n",
    "x = np.loadtxt(\"xtrain.txt\", delimiter=\",\")\n",
    "y = np.loadtxt(\"ytrain.txt\", delimiter=\" \")"
   ]
  },
  {
   "cell_type": "code",
   "execution_count": 2,
   "metadata": {
    "collapsed": false
   },
   "outputs": [],
   "source": [
    "train_size = int(len(x) * 0.7)\n",
    "\n",
    "xtrain = x[:train_size]\n",
    "ytrain = y[:train_size]\n",
    "\n",
    "xtest = x[train_size:]\n",
    "ytest = y[train_size:]\n",
    "\n",
    "def print_stats(ypre, ytest):\n",
    "    # Get Score:\n",
    "    score = len(filter(lambda x:x[0] == x[1], zip(ypre,ytest)))\n",
    "\n",
    "    nsCorrect = filter(lambda x:x[0] == x[1] and x[0] == 1 , zip(ypre,ytest))\n",
    "#     print('# of true positives: %s'% len(nsCorrect))\n",
    "    nsPred = filter(lambda x: x==1, ypre)\n",
    "#     print('# predicted positives: %s'% len(nsPred))\n",
    "\n",
    "    nsActual = filter(lambda x: x==1, ytest)\n",
    "#     print 'Number of actual No-Shows: %s' %len(nsActual)\n",
    "    print 'Accuracy: %s' % (score*1.0/len(ytest))\n",
    "    print('PPV: %s'%(len(nsCorrect)*1.0/len(nsPred))) # TP / (TP+FP)\n",
    "    print 'Sensitivity or TPR : %s' % (len(nsCorrect)*1.0/(len(nsActual))) #TP / P\n",
    "\n",
    "#     print 'PPV: %s' %(len(nsCorrect) * 1.0/ len(nsActual))"
   ]
  },
  {
   "cell_type": "code",
   "execution_count": 3,
   "metadata": {
    "collapsed": true
   },
   "outputs": [],
   "source": [
    "def plotRoc(ytest, scores):\n",
    "    fpr, tpr, thresholds = roc_curve(ytest, scores)\n",
    "    print('FPR: %s' % fpr)\n",
    "    print('TPR: %s' % tpr)\n",
    "    print('Thresholds: %s' % thresholds)\n",
    "    plt.plot(thresholds, tpr)\n",
    "    plt.plot(thresholds, fpr)"
   ]
  },
  {
   "cell_type": "code",
   "execution_count": 5,
   "metadata": {
    "collapsed": true
   },
   "outputs": [],
   "source": [
    "def getScoreForThreshold(t, scores, ytest):\n",
    "    ypre_fixed= [1 if score >= t else -1 for score in scores] #scores from decision function\n",
    "    print_stats(ypre_fixed, ytest)"
   ]
  },
  {
   "cell_type": "markdown",
   "metadata": {},
   "source": [
    "# Linear SVM"
   ]
  },
  {
   "cell_type": "code",
   "execution_count": 56,
   "metadata": {
    "collapsed": false
   },
   "outputs": [
    {
     "name": "stdout",
     "output_type": "stream",
     "text": [
      "Accuracy: 0.859496366825\n",
      "PPV: 0.753289473684\n",
      "Sensitivity or TPR : 0.0250931404778\n"
     ]
    }
   ],
   "source": [
    "# Train\n",
    "# clf = svm.SVC(kernel='linear', C = 1.0)\n",
    "clf = svm.LinearSVC(dual=False, C = 1.0)\n",
    "clf.fit(xtrain,ytrain)\n",
    "\n",
    "# Predict\n",
    "ypre = clf.predict(xtest)\n",
    "\n",
    "# Get Score\n",
    "score = len(filter(lambda x:x[0] == x[1], zip(ypre,ytest)))\n",
    "    \n",
    "print_stats(ypre, ytest)"
   ]
  },
  {
   "cell_type": "code",
   "execution_count": 17,
   "metadata": {
    "collapsed": false
   },
   "outputs": [
    {
     "name": "stdout",
     "output_type": "stream",
     "text": [
      "FPR: [ 0.          0.          0.         ...,  0.99992691  0.99996346  1.        ]\n",
      "TPR: [  1.09577033e-04   5.47885163e-04   7.67039229e-04 ...,   1.00000000e+00\n",
      "   1.00000000e+00   1.00000000e+00]\n",
      "Thresholds: [ 1.77782385  1.28426525  1.26467305 ..., -2.8272698  -2.83090589\n",
      " -2.85378188]\n"
     ]
    }
   ],
   "source": [
    "scores = clf.decision_function(xtest)\n",
    "plotRoc(ytest, scores)"
   ]
  },
  {
   "cell_type": "code",
   "execution_count": 32,
   "metadata": {
    "collapsed": false
   },
   "outputs": [
    {
     "data": {
      "text/plain": [
       "[<matplotlib.lines.Line2D at 0x7f399c161810>]"
      ]
     },
     "execution_count": 32,
     "metadata": {},
     "output_type": "execute_result"
    },
    {
     "data": {
      "image/png": "[encoded data removed]",
      "text/plain": [
       "<matplotlib.figure.Figure at 0x7f399c293990>"
      ]
     },
     "metadata": {},
     "output_type": "display_data"
    }
   ],
   "source": [
    "plt.plot(thresholds, tpr)\n",
    "plt.plot(thresholds, fpr)\n",
    "plt.plot(np.arange(-1,1.0,0.2), 0.65*np.ones(10))\n",
    "plt.plot(-0.8*np.ones(10),np.arange(0,1.0,0.1))\n",
    "# aim threshold at 0.65 fpr and negative it"
   ]
  },
  {
   "cell_type": "code",
   "execution_count": 24,
   "metadata": {
    "collapsed": false
   },
   "outputs": [
    {
     "data": {
      "text/plain": [
       "[<matplotlib.lines.Line2D at 0x7f399fe36dd0>]"
      ]
     },
     "execution_count": 24,
     "metadata": {},
     "output_type": "execute_result"
    },
    {
     "data": {
      "image/png": "[encoded data removed]",
      "text/plain": [
       "<matplotlib.figure.Figure at 0x7f399ff01650>"
      ]
     },
     "metadata": {},
     "output_type": "display_data"
    }
   ],
   "source": [
    "plt.plot(tpr, fpr)"
   ]
  },
  {
   "cell_type": "code",
   "execution_count": 64,
   "metadata": {
    "collapsed": false
   },
   "outputs": [
    {
     "name": "stdout",
     "output_type": "stream",
     "text": [
      "Accuracy: 0.390440992233\n",
      "PPV: 0.173339180004\n",
      "Sensitivity or TPR : 0.866316020162\n"
     ]
    }
   ],
   "source": [
    "# Use -0.8 as threshold\n",
    "t = -0.8\n",
    "ypre_fixed= [1 if score >= t else -1 for score in scores] #scores from decision function\n",
    "print_stats(ypre_fixed, ytest)"
   ]
  },
  {
   "cell_type": "markdown",
   "metadata": {},
   "source": [
    "# Random Forest"
   ]
  },
  {
   "cell_type": "code",
   "execution_count": 4,
   "metadata": {
    "collapsed": false,
    "scrolled": true
   },
   "outputs": [
    {
     "name": "stdout",
     "output_type": "stream",
     "text": [
      "Accuracy: 0.843616887998\n",
      "# of true positives: 833\n",
      "# predicted positives: 2526\n",
      "Percentage true positives (PPV): 0.329770387965\n",
      "Number of actual No-Shows: 9126\n",
      "Sensitivity : 0.0912776682007\n"
     ]
    }
   ],
   "source": [
    "from sklearn.ensemble import RandomForestClassifier\n",
    "clf = RandomForestClassifier(n_estimators=5)\n",
    "clf = clf.fit(xtrain, ytrain)\n",
    "\n",
    "# Predict\n",
    "ypre = clf.predict(xtest)\n",
    "print_stats(ypre, ytest)"
   ]
  },
  {
   "cell_type": "markdown",
   "metadata": {},
   "source": [
    "# Adaboost"
   ]
  },
  {
   "cell_type": "code",
   "execution_count": 65,
   "metadata": {
    "collapsed": false,
    "scrolled": true
   },
   "outputs": [
    {
     "name": "stdout",
     "output_type": "stream",
     "text": [
      "Accuracy: 0.846921197695\n",
      "PPV: 0.345989558614\n",
      "Sensitivity or TPR : 0.0798816568047\n"
     ]
    }
   ],
   "source": [
    "from sklearn.ensemble import AdaBoostClassifier\n",
    "# Create and fit an AdaBoosted decision tree\n",
    "bdt = AdaBoostClassifier(RandomForestClassifier(),algorithm=\"SAMME\", n_estimators=5)\n",
    "bdt.fit(xtrain, ytrain)\n",
    "\n",
    "ypre = bdt.predict(xtest)\n",
    "print_stats(ypre, ytest)"
   ]
  },
  {
   "cell_type": "code",
   "execution_count": 68,
   "metadata": {
    "collapsed": false,
    "scrolled": true
   },
   "outputs": [
    {
     "name": "stdout",
     "output_type": "stream",
     "text": [
      "FPR: [ 0.          0.          0.         ...,  0.99992691  0.99996346  1.        ]\n",
      "TPR: [  1.09577033e-04   5.47885163e-04   7.67039229e-04 ...,   1.00000000e+00\n",
      "   1.00000000e+00   1.00000000e+00]\n",
      "Thresholds: [ 1.77782385  1.28426525  1.26467305 ..., -2.8272698  -2.83090589\n",
      " -2.85378188]\n"
     ]
    },
    {
     "data": {
      "image/png": "[encoded data removed]",
      "text/plain": [
       "<matplotlib.figure.Figure at 0x7f399c23d310>"
      ]
     },
     "metadata": {},
     "output_type": "display_data"
    }
   ],
   "source": [
    "scores = clf.decision_function(xtest)\n",
    "plotRoc(ytest, scores)"
   ]
  },
  {
   "cell_type": "code",
   "execution_count": 70,
   "metadata": {
    "collapsed": false
   },
   "outputs": [
    {
     "name": "stdout",
     "output_type": "stream",
     "text": [
      "Accuracy: 0.390440992233\n",
      "PPV: 0.173339180004\n",
      "Sensitivity or TPR : 0.866316020162\n"
     ]
    }
   ],
   "source": [
    "getScoreForThreshold(-0.8, scores, ytest)"
   ]
  },
  {
   "cell_type": "markdown",
   "metadata": {},
   "source": [
    "# GBRT"
   ]
  },
  {
   "cell_type": "code",
   "execution_count": 6,
   "metadata": {
    "collapsed": false,
    "scrolled": false
   },
   "outputs": [
    {
     "name": "stdout",
     "output_type": "stream",
     "text": [
      "Accuracy: 0.856865447256\n",
      "# of true positives: 43\n",
      "# predicted positives: 100\n",
      "Percentage true positives (PPV): 0.43\n",
      "Number of actual No-Shows: 9126\n",
      "Sensitivity : 0.00471181240412\n"
     ]
    }
   ],
   "source": [
    "from sklearn.ensemble import GradientBoostingClassifier\n",
    "\n",
    "clf = GradientBoostingClassifier(n_estimators=100, learning_rate=1.0,\n",
    "   max_depth=1, random_state=0).fit(xtrain, ytrain)\n",
    "ypre = clf.predict(xtest)\n",
    "\n",
    "print_stats(ypre, ytest)"
   ]
  },
  {
   "cell_type": "markdown",
   "metadata": {},
   "source": [
    "# XGBoost"
   ]
  },
  {
   "cell_type": "code",
   "execution_count": 11,
   "metadata": {
    "collapsed": false
   },
   "outputs": [],
   "source": [
    "import xgboost as xgb\n",
    "dtrain = xgb.DMatrix(xtrain, label=ytrain)\n",
    "dtest = xgb.DMatrix(xtest, label=ytest)\n",
    "# param = {'bst:max_depth':2, 'bst:eta':1, 'silent':1, 'objective':'binary:logistic' }\n",
    "param = {'booster': 'gblinear'}\n",
    "param['nthread'] = 4\n",
    "param['eval_metric'] = 'auc'\n",
    "evallist  = [(dtest,'eval'), (dtrain,'train')]\n"
   ]
  },
  {
   "cell_type": "code",
   "execution_count": null,
   "metadata": {
    "collapsed": false,
    "scrolled": true
   },
   "outputs": [],
   "source": [
    "num_round = 10\n",
    "bst = xgb.train( param, dtrain, num_round, evallist )"
   ]
  },
  {
   "cell_type": "code",
   "execution_count": null,
   "metadata": {
    "collapsed": true
   },
   "outputs": [],
   "source": []
  },
  {
   "cell_type": "markdown",
   "metadata": {},
   "source": [
    "# Percentage of no shows"
   ]
  },
  {
   "cell_type": "code",
   "execution_count": 15,
   "metadata": {
    "collapsed": false
   },
   "outputs": [
    {
     "name": "stdout",
     "output_type": "stream",
     "text": [
      "0.857084690554\n"
     ]
    }
   ],
   "source": [
    "score = len(filter(lambda x:x == -1, ytest))\n",
    "    \n",
    "print score*1.0/len(ytest)"
   ]
  },
  {
   "cell_type": "code",
   "execution_count": null,
   "metadata": {
    "collapsed": true
   },
   "outputs": [],
   "source": []
  }
 ],
 "metadata": {
  "kernelspec": {
   "display_name": "Python 2",
   "language": "python",
   "name": "python2"
  },
  "language_info": {
   "codemirror_mode": {
    "name": "ipython",
    "version": 2
   },
   "file_extension": ".py",
   "mimetype": "text/x-python",
   "name": "python",
   "nbconvert_exporter": "python",
   "pygments_lexer": "ipython2",
   "version": "2.7.6"
  }
 },
 "nbformat": 4,
 "nbformat_minor": 0
}
